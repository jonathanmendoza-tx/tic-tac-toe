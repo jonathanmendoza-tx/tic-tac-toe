{
 "cells": [
  {
   "cell_type": "code",
   "execution_count": null,
   "metadata": {},
   "outputs": [],
   "source": [
    "import pandas as pd\n",
    "import numpy as np\n",
    "import matplotlib.pyplot as plt\n",
    "import seaborn as sns\n",
    "import joblib\n",
    "import copy\n",
    "\n",
    "from sklearn.model_selection import train_test_split\n",
    "from sklearn.pipeline import make_pipeline\n",
    "from sklearn.ensemble import RandomForestClassifier\n",
    "from sklearn.model_selection import RandomizedSearchCV\n",
    "\n",
    "from sklearn.utils.multiclass import unique_labels\n",
    "from sklearn.metrics import accuracy_score\n",
    "from sklearn.metrics import roc_auc_score\n",
    "from sklearn.metrics import classification_report\n",
    "from sklearn.metrics import confusion_matrix\n",
    "from scipy.stats import randint, uniform"
   ]
  },
  {
   "cell_type": "code",
   "execution_count": 15,
   "metadata": {},
   "outputs": [
    {
     "data": {
      "text/html": [
       "<div>\n",
       "<style scoped>\n",
       "    .dataframe tbody tr th:only-of-type {\n",
       "        vertical-align: middle;\n",
       "    }\n",
       "\n",
       "    .dataframe tbody tr th {\n",
       "        vertical-align: top;\n",
       "    }\n",
       "\n",
       "    .dataframe thead th {\n",
       "        text-align: right;\n",
       "    }\n",
       "</style>\n",
       "<table border=\"1\" class=\"dataframe\">\n",
       "  <thead>\n",
       "    <tr style=\"text-align: right;\">\n",
       "      <th></th>\n",
       "      <th>x_wins</th>\n",
       "      <th>tl_x</th>\n",
       "      <th>tl_o</th>\n",
       "      <th>tm_x</th>\n",
       "      <th>tm_o</th>\n",
       "      <th>tr_x</th>\n",
       "      <th>tr_o</th>\n",
       "      <th>ml_x</th>\n",
       "      <th>ml_o</th>\n",
       "      <th>mm_x</th>\n",
       "      <th>mm_o</th>\n",
       "      <th>mr_x</th>\n",
       "      <th>mr_o</th>\n",
       "      <th>nl_x</th>\n",
       "      <th>nl_o</th>\n",
       "      <th>bm_x</th>\n",
       "      <th>bm_o</th>\n",
       "      <th>br_x</th>\n",
       "      <th>br_o</th>\n",
       "    </tr>\n",
       "  </thead>\n",
       "  <tbody>\n",
       "    <tr>\n",
       "      <th>0</th>\n",
       "      <td>1</td>\n",
       "      <td>1</td>\n",
       "      <td>0</td>\n",
       "      <td>1</td>\n",
       "      <td>0</td>\n",
       "      <td>1</td>\n",
       "      <td>0</td>\n",
       "      <td>1</td>\n",
       "      <td>0</td>\n",
       "      <td>0</td>\n",
       "      <td>1</td>\n",
       "      <td>0</td>\n",
       "      <td>1</td>\n",
       "      <td>1</td>\n",
       "      <td>0</td>\n",
       "      <td>0</td>\n",
       "      <td>1</td>\n",
       "      <td>0</td>\n",
       "      <td>1</td>\n",
       "    </tr>\n",
       "    <tr>\n",
       "      <th>1</th>\n",
       "      <td>1</td>\n",
       "      <td>1</td>\n",
       "      <td>0</td>\n",
       "      <td>1</td>\n",
       "      <td>0</td>\n",
       "      <td>1</td>\n",
       "      <td>0</td>\n",
       "      <td>1</td>\n",
       "      <td>0</td>\n",
       "      <td>0</td>\n",
       "      <td>1</td>\n",
       "      <td>0</td>\n",
       "      <td>1</td>\n",
       "      <td>0</td>\n",
       "      <td>1</td>\n",
       "      <td>1</td>\n",
       "      <td>0</td>\n",
       "      <td>0</td>\n",
       "      <td>1</td>\n",
       "    </tr>\n",
       "    <tr>\n",
       "      <th>2</th>\n",
       "      <td>1</td>\n",
       "      <td>1</td>\n",
       "      <td>0</td>\n",
       "      <td>1</td>\n",
       "      <td>0</td>\n",
       "      <td>1</td>\n",
       "      <td>0</td>\n",
       "      <td>1</td>\n",
       "      <td>0</td>\n",
       "      <td>0</td>\n",
       "      <td>1</td>\n",
       "      <td>0</td>\n",
       "      <td>1</td>\n",
       "      <td>0</td>\n",
       "      <td>1</td>\n",
       "      <td>0</td>\n",
       "      <td>1</td>\n",
       "      <td>1</td>\n",
       "      <td>0</td>\n",
       "    </tr>\n",
       "    <tr>\n",
       "      <th>3</th>\n",
       "      <td>1</td>\n",
       "      <td>1</td>\n",
       "      <td>0</td>\n",
       "      <td>1</td>\n",
       "      <td>0</td>\n",
       "      <td>1</td>\n",
       "      <td>0</td>\n",
       "      <td>1</td>\n",
       "      <td>0</td>\n",
       "      <td>0</td>\n",
       "      <td>1</td>\n",
       "      <td>0</td>\n",
       "      <td>1</td>\n",
       "      <td>0</td>\n",
       "      <td>1</td>\n",
       "      <td>0</td>\n",
       "      <td>0</td>\n",
       "      <td>0</td>\n",
       "      <td>0</td>\n",
       "    </tr>\n",
       "    <tr>\n",
       "      <th>4</th>\n",
       "      <td>1</td>\n",
       "      <td>1</td>\n",
       "      <td>0</td>\n",
       "      <td>1</td>\n",
       "      <td>0</td>\n",
       "      <td>1</td>\n",
       "      <td>0</td>\n",
       "      <td>1</td>\n",
       "      <td>0</td>\n",
       "      <td>0</td>\n",
       "      <td>1</td>\n",
       "      <td>0</td>\n",
       "      <td>1</td>\n",
       "      <td>0</td>\n",
       "      <td>0</td>\n",
       "      <td>0</td>\n",
       "      <td>1</td>\n",
       "      <td>0</td>\n",
       "      <td>0</td>\n",
       "    </tr>\n",
       "  </tbody>\n",
       "</table>\n",
       "</div>"
      ],
      "text/plain": [
       "   x_wins  tl_x  tl_o  tm_x  tm_o  tr_x  tr_o  ml_x  ml_o  mm_x  mm_o  mr_x  \\\n",
       "0       1     1     0     1     0     1     0     1     0     0     1     0   \n",
       "1       1     1     0     1     0     1     0     1     0     0     1     0   \n",
       "2       1     1     0     1     0     1     0     1     0     0     1     0   \n",
       "3       1     1     0     1     0     1     0     1     0     0     1     0   \n",
       "4       1     1     0     1     0     1     0     1     0     0     1     0   \n",
       "\n",
       "   mr_o  nl_x  nl_o  bm_x  bm_o  br_x  br_o  \n",
       "0     1     1     0     0     1     0     1  \n",
       "1     1     0     1     1     0     0     1  \n",
       "2     1     0     1     0     1     1     0  \n",
       "3     1     0     1     0     0     0     0  \n",
       "4     1     0     0     0     1     0     0  "
      ]
     },
     "execution_count": 15,
     "metadata": {},
     "output_type": "execute_result"
    }
   ],
   "source": [
    "col_names = ['tl', 'tm', 'tr', 'ml', 'mm', 'mr', 'nl', 'bm', 'br', \"x_wins\"]\n",
    "\n",
    "ttt_df = pd.read_csv('tic-tac-toe.data', names = col_names)\n",
    "\n",
    "for col in ttt_df.columns[:-1]:\n",
    "    ttt_df[col+'_x'] = 0\n",
    "    ttt_df[col+'_o'] = 0\n",
    "    \n",
    "    ttt_df[col+'_x'] = np.where(ttt_df[col] == 'x', 1, 0)\n",
    "    ttt_df[col+'_o'] = np.where(ttt_df[col] == 'o', 1, 0)\n",
    "    \n",
    "    ttt_df = ttt_df.drop(columns = col)\n",
    "    \n",
    "ttt_df['x_wins'] = np.where(ttt_df['x_wins'] == 'positive', 1, 0)\n",
    "    \n",
    "ttt_df.head()"
   ]
  },
  {
   "cell_type": "code",
   "execution_count": 16,
   "metadata": {},
   "outputs": [
    {
     "data": {
      "text/plain": [
       "1    626\n",
       "0    332\n",
       "Name: x_wins, dtype: int64"
      ]
     },
     "execution_count": 16,
     "metadata": {},
     "output_type": "execute_result"
    }
   ],
   "source": [
    "ttt_df['x_wins'].value_counts()"
   ]
  },
  {
   "cell_type": "code",
   "execution_count": 397,
   "metadata": {},
   "outputs": [
    {
     "data": {
      "text/plain": [
       "((862, 18), (96, 18), (862,), (96,))"
      ]
     },
     "execution_count": 397,
     "metadata": {},
     "output_type": "execute_result"
    }
   ],
   "source": [
    "target = 'x_wins'\n",
    "X_train, X_val, y_train, y_val = train_test_split(ttt_df.drop(columns = target), ttt_df[target], test_size = .1, stratify = ttt_df[target])\n",
    "\n",
    "X_train.shape, X_val.shape, y_train.shape, y_val.shape"
   ]
  },
  {
   "cell_type": "code",
   "execution_count": 398,
   "metadata": {},
   "outputs": [],
   "source": [
    "def plot_confusion_matrix(y_true, y_pred):\n",
    "    \"\"\" \n",
    "    Passed actual values and predicted values, returns matrix plot \n",
    "    which compares the two and shows how many predictions made per \n",
    "    class vs what they actually were\n",
    "    \"\"\"\n",
    "\n",
    "    labels = unique_labels(y_true)\n",
    "    columns = [f'Predicted {label}' for label in labels]\n",
    "    index = [f'Actual {label}' for label in labels]\n",
    "    table = pd.DataFrame(confusion_matrix(y_true, y_pred), \n",
    "                           columns=columns, index=index)\n",
    "    ax = plt.axes()\n",
    "    sns.heatmap(table, annot=True, fmt='d', cmap='viridis', ax = ax)\n",
    "    ax.set_title('Confusion Matrix for Prediction Model')\n",
    "    plt.show()"
   ]
  },
  {
   "cell_type": "code",
   "execution_count": 400,
   "metadata": {},
   "outputs": [],
   "source": [
    "def rfc_pipeline_search(X_train, y_train, X_val, y_val):\n",
    "    pipeline = make_pipeline(RandomForestClassifier(random_state = 42))\n",
    "\n",
    "    param_distributions = {\n",
    "        'randomforestclassifier__n_estimators': randint(100, 750), \n",
    "        'randomforestclassifier__max_depth': randint(5,50),\n",
    "        'randomforestclassifier__min_samples_leaf': randint(10,250),\n",
    "        'randomforestclassifier__max_features': uniform(0, 1),\n",
    "        'randomforestclassifier__class_weight':['balanced'],\n",
    "        'randomforestclassifier__criterion': ['entropy', 'gini'],\n",
    "        'randomforestclassifier__max_leaf_nodes': randint(10,500),\n",
    "        'randomforestclassifier__min_impurity_decrease': uniform(0, 0.0009),\n",
    "    }\n",
    "\n",
    "    search = RandomizedSearchCV(\n",
    "        pipeline, \n",
    "        param_distributions=param_distributions, \n",
    "        n_iter=100, \n",
    "        cv=3,\n",
    "#         scoring='roc_auc',\n",
    "        return_train_score=True,\n",
    "        verbose = 10,\n",
    "        n_jobs = -1\n",
    "    )\n",
    "\n",
    "    search.fit(X_train, y_train);\n",
    "    \n",
    "    print(f'Best hyperparameters: \\n{search.best_params_}\\n')\n",
    "    print(f'Cross-validation best accuracy score: \\n{search.best_score_}\\n')\n",
    "    \n",
    "    pipeline_best_rf = search.best_estimator_\n",
    "    pipeline_best_rf.fit(X_train, y_train)\n",
    "    \n",
    "    \n",
    "    y_val_pred_cv = pipeline_best_rf.predict(X_val)\n",
    "    print(f'Validation Accuracy: \\n{accuracy_score(y_val, y_val_pred_cv)}\\n')\n",
    "    \n",
    "    y_val_pred_prob_cv = pipeline_best_rf.predict_proba(X_val)\n",
    "    y_val_pred_prob_cv = [p[1] for p in y_val_pred_prob_cv]\n",
    "    print(f'ROC AUC score {roc_auc_score(y_val, y_val_pred_prob_cv)}')\n",
    "\n",
    "    print(classification_report(y_val, y_val_pred_cv))\n",
    "    \n",
    "    plot_confusion_matrix(y_val, y_val_pred_cv);\n",
    "    \n",
    "    return pipeline_best_rf, y_val_pred_cv, y_val_pred_prob_cv"
   ]
  },
  {
   "cell_type": "code",
   "execution_count": 401,
   "metadata": {},
   "outputs": [
    {
     "name": "stdout",
     "output_type": "stream",
     "text": [
      "Fitting 3 folds for each of 100 candidates, totalling 300 fits\n"
     ]
    },
    {
     "name": "stderr",
     "output_type": "stream",
     "text": [
      "[Parallel(n_jobs=-1)]: Using backend LokyBackend with 6 concurrent workers.\n",
      "[Parallel(n_jobs=-1)]: Done   1 tasks      | elapsed:    1.0s\n",
      "[Parallel(n_jobs=-1)]: Done   6 tasks      | elapsed:    1.3s\n",
      "[Parallel(n_jobs=-1)]: Done  13 tasks      | elapsed:    2.2s\n",
      "[Parallel(n_jobs=-1)]: Done  20 tasks      | elapsed:    3.5s\n",
      "[Parallel(n_jobs=-1)]: Done  29 tasks      | elapsed:    5.4s\n",
      "[Parallel(n_jobs=-1)]: Done  38 tasks      | elapsed:    7.9s\n",
      "[Parallel(n_jobs=-1)]: Done  49 tasks      | elapsed:   10.9s\n",
      "[Parallel(n_jobs=-1)]: Done  60 tasks      | elapsed:   12.5s\n",
      "[Parallel(n_jobs=-1)]: Done  73 tasks      | elapsed:   13.9s\n",
      "[Parallel(n_jobs=-1)]: Done  86 tasks      | elapsed:   17.4s\n",
      "[Parallel(n_jobs=-1)]: Done 101 tasks      | elapsed:   20.0s\n",
      "[Parallel(n_jobs=-1)]: Done 116 tasks      | elapsed:   22.9s\n",
      "[Parallel(n_jobs=-1)]: Done 133 tasks      | elapsed:   25.2s\n",
      "[Parallel(n_jobs=-1)]: Done 150 tasks      | elapsed:   28.5s\n",
      "[Parallel(n_jobs=-1)]: Done 169 tasks      | elapsed:   32.8s\n",
      "[Parallel(n_jobs=-1)]: Done 188 tasks      | elapsed:   35.6s\n",
      "[Parallel(n_jobs=-1)]: Done 209 tasks      | elapsed:   39.4s\n",
      "[Parallel(n_jobs=-1)]: Done 230 tasks      | elapsed:   43.3s\n",
      "[Parallel(n_jobs=-1)]: Done 253 tasks      | elapsed:   48.4s\n",
      "[Parallel(n_jobs=-1)]: Done 276 tasks      | elapsed:   52.0s\n",
      "[Parallel(n_jobs=-1)]: Done 300 out of 300 | elapsed:   56.6s finished\n"
     ]
    },
    {
     "name": "stdout",
     "output_type": "stream",
     "text": [
      "Best hyperparameters: \n",
      "{'randomforestclassifier__class_weight': 'balanced', 'randomforestclassifier__criterion': 'entropy', 'randomforestclassifier__max_depth': 35, 'randomforestclassifier__max_features': 0.7661566723165557, 'randomforestclassifier__max_leaf_nodes': 498, 'randomforestclassifier__min_impurity_decrease': 0.0006254571883320454, 'randomforestclassifier__min_samples_leaf': 13, 'randomforestclassifier__n_estimators': 480}\n",
      "\n",
      "Cross-validation best accuracy score: \n",
      "0.8445323590140662\n",
      "\n",
      "Validation Accuracy: \n",
      "0.9895833333333334\n",
      "\n",
      "ROC AUC score 1.0\n",
      "              precision    recall  f1-score   support\n",
      "\n",
      "           0       0.97      1.00      0.99        33\n",
      "           1       1.00      0.98      0.99        63\n",
      "\n",
      "    accuracy                           0.99        96\n",
      "   macro avg       0.99      0.99      0.99        96\n",
      "weighted avg       0.99      0.99      0.99        96\n",
      "\n"
     ]
    },
    {
     "data": {
      "image/png": "[encoded data removed]",
      "text/plain": [
       "<Figure size 432x288 with 2 Axes>"
      ]
     },
     "metadata": {
      "needs_background": "light"
     },
     "output_type": "display_data"
    }
   ],
   "source": [
    "rfc_cv_search, y_val_pred, y_val_pred_proba = rfc_pipeline_search(X_train, y_train, X_val, y_val)"
   ]
  },
  {
   "cell_type": "code",
   "execution_count": 402,
   "metadata": {},
   "outputs": [
    {
     "data": {
      "text/plain": [
       "Pipeline(steps=[('randomforestclassifier',\n",
       "                 RandomForestClassifier(class_weight='balanced',\n",
       "                                        criterion='entropy', max_depth=35,\n",
       "                                        max_features=0.7661566723165557,\n",
       "                                        max_leaf_nodes=498,\n",
       "                                        min_impurity_decrease=0.0006254571883320454,\n",
       "                                        min_samples_leaf=13, n_estimators=480,\n",
       "                                        random_state=42))])"
      ]
     },
     "execution_count": 402,
     "metadata": {},
     "output_type": "execute_result"
    }
   ],
   "source": [
    "rfc_cv_search.fit(ttt_df.drop(columns = 'x_wins'), ttt_df['x_wins'])"
   ]
  },
  {
   "cell_type": "code",
   "execution_count": 442,
   "metadata": {},
   "outputs": [
    {
     "data": {
      "text/plain": [
       "['./tictactoemaster.joblib']"
      ]
     },
     "execution_count": 442,
     "metadata": {},
     "output_type": "execute_result"
    }
   ],
   "source": [
    "joblib.dump(rfc_cv_search, \"./tictactoemaster.joblib\")"
   ]
  },
  {
   "cell_type": "code",
   "execution_count": null,
   "metadata": {},
   "outputs": [],
   "source": [
    "model = joblib.load(\"./tictactoemaster.joblib\")"
   ]
  },
  {
   "cell_type": "code",
   "execution_count": 5,
   "metadata": {},
   "outputs": [],
   "source": [
    "board_columns = ['tl_x', 'tl_o', 'tm_x', 'tm_o', 'tr_x', 'tr_o', 'ml_x', 'ml_o', \n",
    "\t\t\t\t'mm_x','mm_o', 'mr_x', 'mr_o', 'nl_x', 'nl_o', 'bm_x', 'bm_o', \n",
    "\t\t\t\t'br_x', 'br_o']"
   ]
  },
  {
   "cell_type": "code",
   "execution_count": 6,
   "metadata": {},
   "outputs": [],
   "source": [
    "def clear_board():\n",
    "    board = [[' ',' ',' '], \n",
    "            [' ',' ',' '], \n",
    "            [' ',' ',' ']]\n",
    "    \n",
    "    display_board(board)\n",
    "    return board"
   ]
  },
  {
   "cell_type": "code",
   "execution_count": null,
   "metadata": {},
   "outputs": [],
   "source": [
    "def display_board(board):\n",
    "    for i in range(len(board)):\n",
    "        print(f' {board[i][0]} | {board[i][1]} | {board[i][2]} ')\n",
    "        if i < len(board)-1:\n",
    "            print('-----------')\n",
    "            \n",
    "    for i in range(0, 3, 3):\n",
    "        print(f' {i} | {i+1} | {i+2} ')\n",
    "        if i < len(board)-1:\n",
    "            print('-----------')"
   ]
  },
  {
   "cell_type": "code",
   "execution_count": null,
   "metadata": {},
   "outputs": [],
   "source": [
    "display_board(board)"
   ]
  },
  {
   "cell_type": "code",
   "execution_count": 8,
   "metadata": {},
   "outputs": [],
   "source": [
    "def update_map(board):\n",
    "    move_dict = {0: board[0][0], \n",
    "            1: board[0][1], \n",
    "            2: board[0][2], \n",
    "            3: board[1][0], \n",
    "            4: board[1][1], \n",
    "            5: board[1][2], \n",
    "            6: board[2][0], \n",
    "            7: board[2][1],\n",
    "            8: board[2][2]}\n",
    "    \n",
    "    current_places = []\n",
    "    \n",
    "    for key, val in move_dict.items():\n",
    "        if val == 'x':\n",
    "            current_places += [1,0]\n",
    "\n",
    "        elif val == 'o':\n",
    "            current_places += [0,1]\n",
    "            \n",
    "        else:\n",
    "            current_places += [0,0]\n",
    "\n",
    "    return pd.DataFrame([current_places], columns = board_columns)"
   ]
  },
  {
   "cell_type": "code",
   "execution_count": 27,
   "metadata": {},
   "outputs": [],
   "source": [
    "def find_best_move(current_places, board):\n",
    "    best_move = None\n",
    "    best_prob = 0\n",
    "\n",
    "    for i in range(len(board_columns)):\n",
    "        if '_x' in board_columns[i]:\n",
    "            available = ((current_places[board_columns[i]] == 0) & (current_places[board_columns[i][:-1]+'o'] == 0))[0]\n",
    "            if available:\n",
    "                test_placement = current_places.copy()\n",
    "                test_placement[board_columns[i]] = 1\n",
    "\n",
    "                test_prob = model.predict_proba(test_placement)\n",
    "                print('testing x placement')\n",
    "                print('o_wins', i//2, test_prob[0][0])\n",
    "                print('x_wins', i//2, test_prob[0][1])\n",
    "                print()\n",
    "                \n",
    "                x_move_to_win = make_move(copy.deepcopy(board), i//2, 'x')\n",
    "                win, draw = check_for_win(x_move_to_win)\n",
    "                \n",
    "                if win or draw:\n",
    "                    best_move = i//2\n",
    "                    return best_move\n",
    "                \n",
    "                o_wins = test_prob[0][0]\n",
    "                x_wins = test_prob[0][1]\n",
    "                \n",
    "                if o_wins < x_wins:\n",
    "                    if  x_wins > best_prob:\n",
    "                        best_prob = x_wins\n",
    "                        best_move = i//2\n",
    "                        \n",
    "        else:\n",
    "            available = ((current_places[board_columns[i]] == 0) & (current_places[board_columns[i][:-1]+'x'] == 0))[0]\n",
    "            if available:\n",
    "                test_placement = current_places.copy()\n",
    "                test_placement[board_columns[i]] = 1\n",
    "\n",
    "                test_prob = model.predict_proba(test_placement)\n",
    "                print('testing o placement')\n",
    "                print('o_wins', i//2, test_prob[0][0])\n",
    "                print('x_wins', i//2, test_prob[0][1])\n",
    "                print()\n",
    "                \n",
    "                o_move_to_win = make_move(copy.deepcopy(board), i//2, 'o')\n",
    "                win, draw = check_for_win(o_move_to_win)\n",
    "                \n",
    "                if win or draw:\n",
    "                    best_move = i//2\n",
    "                    return best_move\n",
    "                \n",
    "                o_wins = test_prob[0][0]\n",
    "                x_wins = test_prob[0][1]\n",
    "                \n",
    "                if o_wins > x_wins:\n",
    "                    if  o_wins > best_prob:\n",
    "                        best_prob = o_wins\n",
    "                        best_move = i//2\n",
    "\n",
    "    return best_move"
   ]
  },
  {
   "cell_type": "code",
   "execution_count": 64,
   "metadata": {},
   "outputs": [],
   "source": [
    "def make_move(board, move, sign):\n",
    "    move_board = copy.deepcopy(board)\n",
    "    move_map = {0: (0,0), \n",
    "                1: (0,1), \n",
    "                2: (0,2), \n",
    "                3: (1,0), \n",
    "                4: (1,1), \n",
    "                5: (1,2), \n",
    "                6: (2,0), \n",
    "                7: (2,1),\n",
    "                8: (2,2)}\n",
    "    \n",
    "    i, j = move_map[move]\n",
    "    \n",
    "    if move_board[i][j] == ' ':\n",
    "        move_board[i][j] = sign\n",
    "        \n",
    "    else:\n",
    "        raise Exception('Illegal move')\n",
    "        \n",
    "    return move_board"
   ]
  },
  {
   "cell_type": "code",
   "execution_count": 65,
   "metadata": {},
   "outputs": [],
   "source": [
    "def check_for_win(board):\n",
    "    win = False\n",
    "    draw = False\n",
    "\n",
    "    for i in range(len(board)):\n",
    "            if board[i][0] == board[i][1] == board[i][2]:\n",
    "                if board[i][0] != ' ':\n",
    "                    win = True\n",
    "                    return win, draw\n",
    "\n",
    "            if board[0][i] == board[1][i] == board[2][i]:\n",
    "                if board[0][i] != ' ':\n",
    "                    win = True\n",
    "                    return win, draw\n",
    "\n",
    "            if i == 0:\n",
    "                if board[i][i] == board[1][1] == board[2][2]:\n",
    "                    if board[i][i] != ' ':\n",
    "                        win = True\n",
    "                        return win, draw\n",
    "\n",
    "            if i == 2:\n",
    "                if board[0][i] == board[1][1] == board[i][0]:\n",
    "                    if board[0][i] != ' ':\n",
    "                        win = True\n",
    "                        return win, draw\n",
    "            \n",
    "    if current_places.values.sum() == 9:\n",
    "        draw = True\n",
    "\n",
    "    return win, draw"
   ]
  },
  {
   "cell_type": "code",
   "execution_count": 66,
   "metadata": {},
   "outputs": [],
   "source": [
    "def ai_move(board):\n",
    "    current_places = update_map(board)\n",
    "    best_move = find_best_move(current_places, board)\n",
    "    print(best_move)\n",
    "    board = make_move(board, best_move, 'x')\n",
    "    display_board(board)\n",
    "    \n",
    "    return board"
   ]
  },
  {
   "cell_type": "code",
   "execution_count": 90,
   "metadata": {},
   "outputs": [
    {
     "name": "stdout",
     "output_type": "stream",
     "text": [
      "   |   |   \n",
      "-----------\n",
      "   |   |   \n",
      "-----------\n",
      "   |   |   \n"
     ]
    }
   ],
   "source": [
    "board = clear_board()"
   ]
  },
  {
   "cell_type": "code",
   "execution_count": 85,
   "metadata": {},
   "outputs": [
    {
     "name": "stdout",
     "output_type": "stream",
     "text": [
      " x | o |   \n",
      "-----------\n",
      "   |   |   \n",
      "-----------\n",
      "   |   |   \n"
     ]
    }
   ],
   "source": [
    "# board[0][0] = 'x'\n",
    "# board[0][1] = 'o'\n",
    "\n",
    "# display_board(board)"
   ]
  },
  {
   "cell_type": "code",
   "execution_count": 91,
   "metadata": {},
   "outputs": [
    {
     "name": "stdout",
     "output_type": "stream",
     "text": [
      "testing x placement\n",
      "o_wins 0 0.10146919578599234\n",
      "x_wins 0 0.8985308042140078\n",
      "\n",
      "testing o placement\n",
      "o_wins 0 0.22600825502271754\n",
      "x_wins 0 0.7739917449772827\n",
      "\n",
      "testing x placement\n",
      "o_wins 1 0.14338517935727554\n",
      "x_wins 1 0.8566148206427245\n",
      "\n",
      "testing o placement\n",
      "o_wins 1 0.14340032032063169\n",
      "x_wins 1 0.8565996796793683\n",
      "\n",
      "testing x placement\n",
      "o_wins 2 0.09738252750636933\n",
      "x_wins 2 0.9026174724936309\n",
      "\n",
      "testing o placement\n",
      "o_wins 2 0.22914961800783926\n",
      "x_wins 2 0.7708503819921603\n",
      "\n",
      "testing x placement\n",
      "o_wins 3 0.14365080587378062\n",
      "x_wins 3 0.8563491941262193\n",
      "\n",
      "testing o placement\n",
      "o_wins 3 0.1402020718676895\n",
      "x_wins 3 0.8597979281323106\n",
      "\n",
      "testing x placement\n",
      "o_wins 4 0.0055600138728074105\n",
      "x_wins 4 0.9944399861271926\n",
      "\n",
      "testing o placement\n",
      "o_wins 4 0.769258231323992\n",
      "x_wins 4 0.23074176867600796\n",
      "\n",
      "testing x placement\n",
      "o_wins 5 0.14021298148313183\n",
      "x_wins 5 0.8597870185168682\n",
      "\n",
      "testing o placement\n",
      "o_wins 5 0.14093771329819513\n",
      "x_wins 5 0.859062286701805\n",
      "\n",
      "testing x placement\n",
      "o_wins 6 0.10666382291153965\n",
      "x_wins 6 0.8933361770884604\n",
      "\n",
      "testing o placement\n",
      "o_wins 6 0.23140698998748205\n",
      "x_wins 6 0.768593010012518\n",
      "\n",
      "testing x placement\n",
      "o_wins 7 0.14870585074024756\n",
      "x_wins 7 0.8512941492597523\n",
      "\n",
      "testing o placement\n",
      "o_wins 7 0.14174338523318744\n",
      "x_wins 7 0.8582566147668126\n",
      "\n",
      "testing x placement\n",
      "o_wins 8 0.1024480001558368\n",
      "x_wins 8 0.8975519998441633\n",
      "\n",
      "testing o placement\n",
      "o_wins 8 0.2212634998564538\n",
      "x_wins 8 0.778736500143546\n",
      "\n",
      "4\n",
      "   |   |   \n",
      "-----------\n",
      "   | x |   \n",
      "-----------\n",
      "   |   |   \n"
     ]
    }
   ],
   "source": [
    "board = ai_move(board)"
   ]
  },
  {
   "cell_type": "code",
   "execution_count": 92,
   "metadata": {},
   "outputs": [
    {
     "name": "stdout",
     "output_type": "stream",
     "text": [
      "   |   |   \n",
      "-----------\n",
      "   | x |   \n",
      "-----------\n",
      "   |   | o \n"
     ]
    }
   ],
   "source": [
    "board = make_move(board, 8, 'o')\n",
    "display_board(board)"
   ]
  },
  {
   "cell_type": "code",
   "execution_count": 93,
   "metadata": {},
   "outputs": [
    {
     "name": "stdout",
     "output_type": "stream",
     "text": [
      "testing x placement\n",
      "o_wins 0 0.08680421402925459\n",
      "x_wins 0 0.9131957859707452\n",
      "\n",
      "testing o placement\n",
      "o_wins 0 0.04302627774011748\n",
      "x_wins 0 0.9569737222598825\n",
      "\n",
      "testing x placement\n",
      "o_wins 1 0.07414724683329647\n",
      "x_wins 1 0.9258527531667032\n",
      "\n",
      "testing o placement\n",
      "o_wins 1 0.067923472217807\n",
      "x_wins 1 0.9320765277821927\n",
      "\n",
      "testing x placement\n",
      "o_wins 2 0.04947511108166157\n",
      "x_wins 2 0.9505248889183383\n",
      "\n",
      "testing o placement\n",
      "o_wins 2 0.41420153692220824\n",
      "x_wins 2 0.5857984630777917\n",
      "\n",
      "testing x placement\n",
      "o_wins 3 0.06957326478015571\n",
      "x_wins 3 0.9304267352198438\n",
      "\n",
      "testing o placement\n",
      "o_wins 3 0.06663049721025441\n",
      "x_wins 3 0.9333695027897453\n",
      "\n",
      "testing x placement\n",
      "o_wins 5 0.06441196625942731\n",
      "x_wins 5 0.9355880337405725\n",
      "\n",
      "testing o placement\n",
      "o_wins 5 0.1275085638264229\n",
      "x_wins 5 0.8724914361735774\n",
      "\n",
      "testing x placement\n",
      "o_wins 6 0.0495760874428505\n",
      "x_wins 6 0.9504239125571492\n",
      "\n",
      "testing o placement\n",
      "o_wins 6 0.39965373291523\n",
      "x_wins 6 0.6003462670847696\n",
      "\n",
      "testing x placement\n",
      "o_wins 7 0.06470732123772867\n",
      "x_wins 7 0.9352926787622711\n",
      "\n",
      "testing o placement\n",
      "o_wins 7 0.13636524873761688\n",
      "x_wins 7 0.8636347512623831\n",
      "\n",
      "2\n",
      "   |   | x \n",
      "-----------\n",
      "   | x |   \n",
      "-----------\n",
      "   |   | o \n"
     ]
    }
   ],
   "source": [
    "board = ai_move(board)"
   ]
  },
  {
   "cell_type": "code",
   "execution_count": 94,
   "metadata": {},
   "outputs": [
    {
     "name": "stdout",
     "output_type": "stream",
     "text": [
      "   |   | x \n",
      "-----------\n",
      "   | x |   \n",
      "-----------\n",
      " o |   | o \n"
     ]
    }
   ],
   "source": [
    "board = make_move(board, 6, 'o')\n",
    "display_board(board)"
   ]
  },
  {
   "cell_type": "code",
   "execution_count": 95,
   "metadata": {},
   "outputs": [
    {
     "name": "stdout",
     "output_type": "stream",
     "text": [
      "testing x placement\n",
      "o_wins 0 0.4348771280880575\n",
      "x_wins 0 0.5651228719119424\n",
      "\n",
      "testing o placement\n",
      "o_wins 0 0.42696463614963015\n",
      "x_wins 0 0.5730353638503697\n",
      "\n",
      "testing x placement\n",
      "o_wins 1 0.4047680255362798\n",
      "x_wins 1 0.5952319744637201\n",
      "\n",
      "testing o placement\n",
      "o_wins 1 0.3963111106346671\n",
      "x_wins 1 0.6036888893653327\n",
      "\n",
      "testing x placement\n",
      "o_wins 3 0.4134639109454891\n",
      "x_wins 3 0.5865360890545105\n",
      "\n",
      "testing o placement\n",
      "o_wins 3 0.4311424404504967\n",
      "x_wins 3 0.5688575595495031\n",
      "\n",
      "testing x placement\n",
      "o_wins 5 0.41858380887614843\n",
      "x_wins 5 0.5814161911238513\n",
      "\n",
      "testing o placement\n",
      "o_wins 5 0.4149226490130583\n",
      "x_wins 5 0.5850773509869412\n",
      "\n",
      "testing x placement\n",
      "o_wins 7 0.3613252536399171\n",
      "x_wins 7 0.6386747463600828\n",
      "\n",
      "testing o placement\n",
      "o_wins 7 0.8339017678626741\n",
      "x_wins 7 0.16609823213732558\n",
      "\n",
      "7\n",
      "   |   | x \n",
      "-----------\n",
      "   | x |   \n",
      "-----------\n",
      " o | x | o \n"
     ]
    }
   ],
   "source": [
    "board = ai_move(board)"
   ]
  },
  {
   "cell_type": "code",
   "execution_count": 96,
   "metadata": {},
   "outputs": [
    {
     "name": "stdout",
     "output_type": "stream",
     "text": [
      "   | o | x \n",
      "-----------\n",
      "   | x |   \n",
      "-----------\n",
      " o | x | o \n"
     ]
    }
   ],
   "source": [
    "board = make_move(board, 1, 'o')\n",
    "display_board(board)"
   ]
  },
  {
   "cell_type": "code",
   "execution_count": 97,
   "metadata": {},
   "outputs": [
    {
     "name": "stdout",
     "output_type": "stream",
     "text": [
      "testing x placement\n",
      "o_wins 0 0.3733124051860757\n",
      "x_wins 0 0.6266875948139242\n",
      "\n",
      "testing o placement\n",
      "o_wins 0 0.3831180840558518\n",
      "x_wins 0 0.6168819159441482\n",
      "\n",
      "testing x placement\n",
      "o_wins 3 0.33841340783318574\n",
      "x_wins 3 0.6615865921668141\n",
      "\n",
      "testing o placement\n",
      "o_wins 3 0.3616698523385434\n",
      "x_wins 3 0.6383301476614565\n",
      "\n",
      "testing x placement\n",
      "o_wins 5 0.34958334826419135\n",
      "x_wins 5 0.6504166517358084\n",
      "\n",
      "testing o placement\n",
      "o_wins 5 0.35389609805639355\n",
      "x_wins 5 0.6461039019436062\n",
      "\n",
      "3\n",
      "   | o | x \n",
      "-----------\n",
      " x | x |   \n",
      "-----------\n",
      " o | x | o \n"
     ]
    }
   ],
   "source": [
    "board = ai_move(board)"
   ]
  },
  {
   "cell_type": "code",
   "execution_count": 98,
   "metadata": {},
   "outputs": [
    {
     "name": "stdout",
     "output_type": "stream",
     "text": [
      "   | o | x \n",
      "-----------\n",
      " x | x | o \n",
      "-----------\n",
      " o | x | o \n"
     ]
    }
   ],
   "source": [
    "board = make_move(board, 5, 'o')\n",
    "display_board(board)"
   ]
  },
  {
   "cell_type": "code",
   "execution_count": 99,
   "metadata": {},
   "outputs": [
    {
     "name": "stdout",
     "output_type": "stream",
     "text": [
      "testing x placement\n",
      "o_wins 0 0.38539311421341516\n",
      "x_wins 0 0.6146068857865848\n",
      "\n",
      "testing o placement\n",
      "o_wins 0 0.34727623177380634\n",
      "x_wins 0 0.6527237682261943\n",
      "\n",
      "0\n",
      " x | o | x \n",
      "-----------\n",
      " x | x | o \n",
      "-----------\n",
      " o | x | o \n"
     ]
    }
   ],
   "source": [
    "board = ai_move(board)"
   ]
  },
  {
   "cell_type": "code",
   "execution_count": 73,
   "metadata": {},
   "outputs": [
    {
     "ename": "NameError",
     "evalue": "name 'inst' is not defined",
     "output_type": "error",
     "traceback": [
      "\u001b[1;31m---------------------------------------------------------------------------\u001b[0m",
      "\u001b[1;31mNameError\u001b[0m                                 Traceback (most recent call last)",
      "\u001b[1;32m<ipython-input-73-8281fe389d9c>\u001b[0m in \u001b[0;36m<module>\u001b[1;34m\u001b[0m\n\u001b[1;32m----> 1\u001b[1;33m \u001b[0minst\u001b[0m\u001b[1;33m.\u001b[0m\u001b[0margs\u001b[0m\u001b[1;33m\u001b[0m\u001b[1;33m\u001b[0m\u001b[0m\n\u001b[0m",
      "\u001b[1;31mNameError\u001b[0m: name 'inst' is not defined"
     ]
    }
   ],
   "source": [
    "inst.args"
   ]
  },
  {
   "cell_type": "code",
   "execution_count": null,
   "metadata": {},
   "outputs": [],
   "source": []
  }
 ],
 "metadata": {
  "kernelspec": {
   "display_name": "Python 3",
   "language": "python",
   "name": "python3"
  },
  "language_info": {
   "codemirror_mode": {
    "name": "ipython",
    "version": 3
   },
   "file_extension": ".py",
   "mimetype": "text/x-python",
   "name": "python",
   "nbconvert_exporter": "python",
   "pygments_lexer": "ipython3",
   "version": "3.8.6"
  }
 },
 "nbformat": 4,
 "nbformat_minor": 4
}
